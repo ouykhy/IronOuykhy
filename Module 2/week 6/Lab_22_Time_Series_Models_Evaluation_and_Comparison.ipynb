{
 "cells": [
  {
   "cell_type": "code",
   "execution_count": 1,
   "id": "d8dc473a",
   "metadata": {},
   "outputs": [],
   "source": [
    "import matplotlib as mpl\n",
    "import matplotlib.pyplot as plt\n",
    "import seaborn as sns\n",
    "import numpy as np\n",
    "import pandas as pd"
   ]
  },
  {
   "cell_type": "code",
   "execution_count": 2,
   "id": "67efa9c8",
   "metadata": {},
   "outputs": [],
   "source": [
    "data = pd.read_csv(r'C:\\Users\\ouykh\\Downloads\\BTCUSD.csv')"
   ]
  },
  {
   "cell_type": "code",
   "execution_count": 3,
   "id": "a8fe742f",
   "metadata": {},
   "outputs": [
    {
     "data": {
      "text/html": [
       "<div>\n",
       "<style scoped>\n",
       "    .dataframe tbody tr th:only-of-type {\n",
       "        vertical-align: middle;\n",
       "    }\n",
       "\n",
       "    .dataframe tbody tr th {\n",
       "        vertical-align: top;\n",
       "    }\n",
       "\n",
       "    .dataframe thead th {\n",
       "        text-align: right;\n",
       "    }\n",
       "</style>\n",
       "<table border=\"1\" class=\"dataframe\">\n",
       "  <thead>\n",
       "    <tr style=\"text-align: right;\">\n",
       "      <th></th>\n",
       "      <th>Date</th>\n",
       "      <th>Open</th>\n",
       "      <th>High</th>\n",
       "      <th>Low</th>\n",
       "      <th>Close</th>\n",
       "      <th>Adj Close</th>\n",
       "      <th>Volume</th>\n",
       "    </tr>\n",
       "  </thead>\n",
       "  <tbody>\n",
       "    <tr>\n",
       "      <th>0</th>\n",
       "      <td>2021-02-04</td>\n",
       "      <td>37475.105469</td>\n",
       "      <td>38592.175781</td>\n",
       "      <td>36317.500000</td>\n",
       "      <td>36926.066406</td>\n",
       "      <td>36926.066406</td>\n",
       "      <td>68838074392</td>\n",
       "    </tr>\n",
       "    <tr>\n",
       "      <th>1</th>\n",
       "      <td>2021-02-05</td>\n",
       "      <td>36931.546875</td>\n",
       "      <td>38225.906250</td>\n",
       "      <td>36658.761719</td>\n",
       "      <td>38144.308594</td>\n",
       "      <td>38144.308594</td>\n",
       "      <td>58598066402</td>\n",
       "    </tr>\n",
       "    <tr>\n",
       "      <th>2</th>\n",
       "      <td>2021-02-06</td>\n",
       "      <td>38138.386719</td>\n",
       "      <td>40846.546875</td>\n",
       "      <td>38138.386719</td>\n",
       "      <td>39266.011719</td>\n",
       "      <td>39266.011719</td>\n",
       "      <td>71326033653</td>\n",
       "    </tr>\n",
       "    <tr>\n",
       "      <th>3</th>\n",
       "      <td>2021-02-07</td>\n",
       "      <td>39250.191406</td>\n",
       "      <td>39621.835938</td>\n",
       "      <td>37446.152344</td>\n",
       "      <td>38903.441406</td>\n",
       "      <td>38903.441406</td>\n",
       "      <td>65500641143</td>\n",
       "    </tr>\n",
       "    <tr>\n",
       "      <th>4</th>\n",
       "      <td>2021-02-08</td>\n",
       "      <td>38886.828125</td>\n",
       "      <td>46203.929688</td>\n",
       "      <td>38076.324219</td>\n",
       "      <td>46196.464844</td>\n",
       "      <td>46196.464844</td>\n",
       "      <td>101467222687</td>\n",
       "    </tr>\n",
       "  </tbody>\n",
       "</table>\n",
       "</div>"
      ],
      "text/plain": [
       "         Date          Open          High           Low         Close  \\\n",
       "0  2021-02-04  37475.105469  38592.175781  36317.500000  36926.066406   \n",
       "1  2021-02-05  36931.546875  38225.906250  36658.761719  38144.308594   \n",
       "2  2021-02-06  38138.386719  40846.546875  38138.386719  39266.011719   \n",
       "3  2021-02-07  39250.191406  39621.835938  37446.152344  38903.441406   \n",
       "4  2021-02-08  38886.828125  46203.929688  38076.324219  46196.464844   \n",
       "\n",
       "      Adj Close        Volume  \n",
       "0  36926.066406   68838074392  \n",
       "1  38144.308594   58598066402  \n",
       "2  39266.011719   71326033653  \n",
       "3  38903.441406   65500641143  \n",
       "4  46196.464844  101467222687  "
      ]
     },
     "execution_count": 3,
     "metadata": {},
     "output_type": "execute_result"
    }
   ],
   "source": [
    "data.head()"
   ]
  },
  {
   "cell_type": "code",
   "execution_count": 3,
   "id": "a0dcdd2b",
   "metadata": {},
   "outputs": [],
   "source": [
    "data.drop(['Open','High','Low','Adj Close','Volume'], axis=1, inplace=True)"
   ]
  },
  {
   "cell_type": "code",
   "execution_count": 6,
   "id": "f2ef8870",
   "metadata": {},
   "outputs": [],
   "source": [
    "data.index = pd.to_datetime(data.Date)"
   ]
  },
  {
   "cell_type": "code",
   "execution_count": 7,
   "id": "25d83a95",
   "metadata": {},
   "outputs": [
    {
     "data": {
      "text/html": [
       "<div>\n",
       "<style scoped>\n",
       "    .dataframe tbody tr th:only-of-type {\n",
       "        vertical-align: middle;\n",
       "    }\n",
       "\n",
       "    .dataframe tbody tr th {\n",
       "        vertical-align: top;\n",
       "    }\n",
       "\n",
       "    .dataframe thead th {\n",
       "        text-align: right;\n",
       "    }\n",
       "</style>\n",
       "<table border=\"1\" class=\"dataframe\">\n",
       "  <thead>\n",
       "    <tr style=\"text-align: right;\">\n",
       "      <th></th>\n",
       "      <th>Close</th>\n",
       "    </tr>\n",
       "  </thead>\n",
       "  <tbody>\n",
       "    <tr>\n",
       "      <th>count</th>\n",
       "      <td>366.000000</td>\n",
       "    </tr>\n",
       "    <tr>\n",
       "      <th>mean</th>\n",
       "      <td>47973.606942</td>\n",
       "    </tr>\n",
       "    <tr>\n",
       "      <th>std</th>\n",
       "      <td>9220.474605</td>\n",
       "    </tr>\n",
       "    <tr>\n",
       "      <th>min</th>\n",
       "      <td>29807.347656</td>\n",
       "    </tr>\n",
       "    <tr>\n",
       "      <th>25%</th>\n",
       "      <td>40265.424805</td>\n",
       "    </tr>\n",
       "    <tr>\n",
       "      <th>50%</th>\n",
       "      <td>47747.423828</td>\n",
       "    </tr>\n",
       "    <tr>\n",
       "      <th>75%</th>\n",
       "      <td>56187.017578</td>\n",
       "    </tr>\n",
       "    <tr>\n",
       "      <th>max</th>\n",
       "      <td>67566.828125</td>\n",
       "    </tr>\n",
       "  </tbody>\n",
       "</table>\n",
       "</div>"
      ],
      "text/plain": [
       "              Close\n",
       "count    366.000000\n",
       "mean   47973.606942\n",
       "std     9220.474605\n",
       "min    29807.347656\n",
       "25%    40265.424805\n",
       "50%    47747.423828\n",
       "75%    56187.017578\n",
       "max    67566.828125"
      ]
     },
     "execution_count": 7,
     "metadata": {},
     "output_type": "execute_result"
    }
   ],
   "source": [
    "data.describe()"
   ]
  },
  {
   "cell_type": "code",
   "execution_count": 8,
   "id": "9b531082",
   "metadata": {},
   "outputs": [
    {
     "name": "stderr",
     "output_type": "stream",
     "text": [
      "C:\\Users\\ouykh\\anaconda3\\lib\\site-packages\\seaborn\\_decorators.py:36: FutureWarning: Pass the following variables as keyword args: x, y. From version 0.12, the only valid positional argument will be `data`, and passing other arguments without an explicit keyword will result in an error or misinterpretation.\n",
      "  warnings.warn(\n"
     ]
    },
    {
     "data": {
      "text/plain": [
       "<AxesSubplot:xlabel='Date', ylabel='Close'>"
      ]
     },
     "execution_count": 8,
     "metadata": {},
     "output_type": "execute_result"
    },
    {
     "data": {
      "image/png": "[encoded data removed]",
      "text/plain": [
       "<Figure size 432x288 with 1 Axes>"
      ]
     },
     "metadata": {
      "needs_background": "light"
     },
     "output_type": "display_data"
    }
   ],
   "source": [
    "sns.lineplot(data.Date, data.Close)"
   ]
  },
  {
   "cell_type": "code",
   "execution_count": 9,
   "id": "22ec7d13",
   "metadata": {},
   "outputs": [],
   "source": [
    "import statsmodels.api as sm\n",
    "from statsmodels.tsa.stattools import adfuller"
   ]
  },
  {
   "cell_type": "code",
   "execution_count": 10,
   "id": "12f0d11f",
   "metadata": {},
   "outputs": [
    {
     "name": "stdout",
     "output_type": "stream",
     "text": [
      "ADF Test Statistic: -2.04\n",
      "5% Critical Value: -2.87\n",
      "p-value: 0.27\n"
     ]
    }
   ],
   "source": [
    "result = adfuller(data['Close'])\n",
    "print('ADF Test Statistic: %.2f' % result[0])\n",
    "print('5%% Critical Value: %.2f' % result[4]['5%'])\n",
    "print('p-value: %.2f' % result[1])"
   ]
  },
  {
   "cell_type": "code",
   "execution_count": 11,
   "id": "f0d50d67",
   "metadata": {},
   "outputs": [
    {
     "data": {
      "image/png": "[encoded data removed]",
      "text/plain": [
       "<Figure size 432x288 with 1 Axes>"
      ]
     },
     "metadata": {
      "needs_background": "light"
     },
     "output_type": "display_data"
    }
   ],
   "source": [
    "from statsmodels.tsa.stattools import acf, pacf\n",
    "from statsmodels.graphics.tsaplots import plot_acf, plot_pacf\n",
    "plot_acf(data.Close)\n",
    "plt.show()"
   ]
  },
  {
   "cell_type": "code",
   "execution_count": 12,
   "id": "919c2a05",
   "metadata": {
    "scrolled": true
   },
   "outputs": [
    {
     "data": {
      "image/png": "[encoded data removed]",
      "text/plain": [
       "<Figure size 432x288 with 1 Axes>"
      ]
     },
     "metadata": {
      "needs_background": "light"
     },
     "output_type": "display_data"
    }
   ],
   "source": [
    "plot_pacf(data.Close)\n",
    "plt.show()"
   ]
  },
  {
   "cell_type": "code",
   "execution_count": 13,
   "id": "570bb329",
   "metadata": {},
   "outputs": [],
   "source": [
    "data['diff'] = data['Close'].diff()"
   ]
  },
  {
   "cell_type": "code",
   "execution_count": 14,
   "id": "683f2d3e",
   "metadata": {},
   "outputs": [
    {
     "data": {
      "text/html": [
       "<div>\n",
       "<style scoped>\n",
       "    .dataframe tbody tr th:only-of-type {\n",
       "        vertical-align: middle;\n",
       "    }\n",
       "\n",
       "    .dataframe tbody tr th {\n",
       "        vertical-align: top;\n",
       "    }\n",
       "\n",
       "    .dataframe thead th {\n",
       "        text-align: right;\n",
       "    }\n",
       "</style>\n",
       "<table border=\"1\" class=\"dataframe\">\n",
       "  <thead>\n",
       "    <tr style=\"text-align: right;\">\n",
       "      <th></th>\n",
       "      <th>Date</th>\n",
       "      <th>Close</th>\n",
       "      <th>diff</th>\n",
       "    </tr>\n",
       "    <tr>\n",
       "      <th>Date</th>\n",
       "      <th></th>\n",
       "      <th></th>\n",
       "      <th></th>\n",
       "    </tr>\n",
       "  </thead>\n",
       "  <tbody>\n",
       "    <tr>\n",
       "      <th>2021-02-04</th>\n",
       "      <td>2021-02-04</td>\n",
       "      <td>36926.066406</td>\n",
       "      <td>NaN</td>\n",
       "    </tr>\n",
       "    <tr>\n",
       "      <th>2021-02-05</th>\n",
       "      <td>2021-02-05</td>\n",
       "      <td>38144.308594</td>\n",
       "      <td>1218.242188</td>\n",
       "    </tr>\n",
       "  </tbody>\n",
       "</table>\n",
       "</div>"
      ],
      "text/plain": [
       "                 Date         Close         diff\n",
       "Date                                            \n",
       "2021-02-04 2021-02-04  36926.066406          NaN\n",
       "2021-02-05 2021-02-05  38144.308594  1218.242188"
      ]
     },
     "execution_count": 14,
     "metadata": {},
     "output_type": "execute_result"
    }
   ],
   "source": [
    "data.head(2)"
   ]
  },
  {
   "cell_type": "code",
   "execution_count": 15,
   "id": "670f7f76",
   "metadata": {},
   "outputs": [
    {
     "data": {
      "text/html": [
       "<div>\n",
       "<style scoped>\n",
       "    .dataframe tbody tr th:only-of-type {\n",
       "        vertical-align: middle;\n",
       "    }\n",
       "\n",
       "    .dataframe tbody tr th {\n",
       "        vertical-align: top;\n",
       "    }\n",
       "\n",
       "    .dataframe thead th {\n",
       "        text-align: right;\n",
       "    }\n",
       "</style>\n",
       "<table border=\"1\" class=\"dataframe\">\n",
       "  <thead>\n",
       "    <tr style=\"text-align: right;\">\n",
       "      <th></th>\n",
       "      <th>Date</th>\n",
       "      <th>Close</th>\n",
       "      <th>diff</th>\n",
       "    </tr>\n",
       "    <tr>\n",
       "      <th>Date</th>\n",
       "      <th></th>\n",
       "      <th></th>\n",
       "      <th></th>\n",
       "    </tr>\n",
       "  </thead>\n",
       "  <tbody>\n",
       "    <tr>\n",
       "      <th>2021-02-05</th>\n",
       "      <td>2021-02-05</td>\n",
       "      <td>38144.308594</td>\n",
       "      <td>1218.242188</td>\n",
       "    </tr>\n",
       "    <tr>\n",
       "      <th>2021-02-06</th>\n",
       "      <td>2021-02-06</td>\n",
       "      <td>39266.011719</td>\n",
       "      <td>1121.703125</td>\n",
       "    </tr>\n",
       "    <tr>\n",
       "      <th>2021-02-07</th>\n",
       "      <td>2021-02-07</td>\n",
       "      <td>38903.441406</td>\n",
       "      <td>-362.570313</td>\n",
       "    </tr>\n",
       "    <tr>\n",
       "      <th>2021-02-08</th>\n",
       "      <td>2021-02-08</td>\n",
       "      <td>46196.464844</td>\n",
       "      <td>7293.023438</td>\n",
       "    </tr>\n",
       "    <tr>\n",
       "      <th>2021-02-09</th>\n",
       "      <td>2021-02-09</td>\n",
       "      <td>46481.105469</td>\n",
       "      <td>284.640625</td>\n",
       "    </tr>\n",
       "  </tbody>\n",
       "</table>\n",
       "</div>"
      ],
      "text/plain": [
       "                 Date         Close         diff\n",
       "Date                                            \n",
       "2021-02-05 2021-02-05  38144.308594  1218.242188\n",
       "2021-02-06 2021-02-06  39266.011719  1121.703125\n",
       "2021-02-07 2021-02-07  38903.441406  -362.570313\n",
       "2021-02-08 2021-02-08  46196.464844  7293.023438\n",
       "2021-02-09 2021-02-09  46481.105469   284.640625"
      ]
     },
     "execution_count": 15,
     "metadata": {},
     "output_type": "execute_result"
    }
   ],
   "source": [
    "data = data.drop(data.index[0])\n",
    "data.head()"
   ]
  },
  {
   "cell_type": "code",
   "execution_count": 16,
   "id": "67b3550e",
   "metadata": {},
   "outputs": [
    {
     "name": "stderr",
     "output_type": "stream",
     "text": [
      "C:\\Users\\ouykh\\anaconda3\\lib\\site-packages\\statsmodels\\tsa\\arima_model.py:472: FutureWarning: \n",
      "statsmodels.tsa.arima_model.ARMA and statsmodels.tsa.arima_model.ARIMA have\n",
      "been deprecated in favor of statsmodels.tsa.arima.model.ARIMA (note the .\n",
      "between arima and model) and\n",
      "statsmodels.tsa.SARIMAX. These will be removed after the 0.12 release.\n",
      "\n",
      "statsmodels.tsa.arima.model.ARIMA makes use of the statespace framework and\n",
      "is both well tested and maintained.\n",
      "\n",
      "To silence this warning and continue using ARMA and ARIMA until they are\n",
      "removed, use:\n",
      "\n",
      "import warnings\n",
      "warnings.filterwarnings('ignore', 'statsmodels.tsa.arima_model.ARMA',\n",
      "                        FutureWarning)\n",
      "warnings.filterwarnings('ignore', 'statsmodels.tsa.arima_model.ARIMA',\n",
      "                        FutureWarning)\n",
      "\n",
      "  warnings.warn(ARIMA_DEPRECATION_WARN, FutureWarning)\n",
      "C:\\Users\\ouykh\\anaconda3\\lib\\site-packages\\statsmodels\\tsa\\base\\tsa_model.py:524: ValueWarning: No frequency information was provided, so inferred frequency D will be used.\n",
      "  warnings.warn('No frequency information was'\n"
     ]
    },
    {
     "data": {
      "text/html": [
       "<table class=\"simpletable\">\n",
       "<caption>ARMA Model Results</caption>\n",
       "<tr>\n",
       "  <th>Dep. Variable:</th>       <td>diff</td>       <th>  No. Observations:  </th>    <td>365</td>   \n",
       "</tr>\n",
       "<tr>\n",
       "  <th>Model:</th>            <td>ARMA(1, 0)</td>    <th>  Log Likelihood     </th> <td>-3265.410</td>\n",
       "</tr>\n",
       "<tr>\n",
       "  <th>Method:</th>             <td>css-mle</td>     <th>  S.D. of innovations</th> <td>1858.242</td> \n",
       "</tr>\n",
       "<tr>\n",
       "  <th>Date:</th>          <td>Sun, 06 Feb 2022</td> <th>  AIC                </th> <td>6536.819</td> \n",
       "</tr>\n",
       "<tr>\n",
       "  <th>Time:</th>              <td>16:20:42</td>     <th>  BIC                </th> <td>6548.519</td> \n",
       "</tr>\n",
       "<tr>\n",
       "  <th>Sample:</th>           <td>02-05-2021</td>    <th>  HQIC               </th> <td>6541.469</td> \n",
       "</tr>\n",
       "<tr>\n",
       "  <th></th>                 <td>- 02-04-2022</td>   <th>                     </th>     <td> </td>    \n",
       "</tr>\n",
       "</table>\n",
       "<table class=\"simpletable\">\n",
       "<tr>\n",
       "       <td></td>         <th>coef</th>     <th>std err</th>      <th>z</th>      <th>P>|z|</th>  <th>[0.025</th>    <th>0.975]</th>  \n",
       "</tr>\n",
       "<tr>\n",
       "  <th>const</th>      <td>    9.4565</td> <td>   92.701</td> <td>    0.102</td> <td> 0.919</td> <td> -172.233</td> <td>  191.146</td>\n",
       "</tr>\n",
       "<tr>\n",
       "  <th>ar.L1.diff</th> <td>   -0.0494</td> <td>    0.052</td> <td>   -0.941</td> <td> 0.347</td> <td>   -0.152</td> <td>    0.053</td>\n",
       "</tr>\n",
       "</table>\n",
       "<table class=\"simpletable\">\n",
       "<caption>Roots</caption>\n",
       "<tr>\n",
       "    <td></td>   <th>            Real</th>  <th>         Imaginary</th> <th>         Modulus</th>  <th>        Frequency</th>\n",
       "</tr>\n",
       "<tr>\n",
       "  <th>AR.1</th> <td>         -20.2451</td> <td>          +0.0000j</td> <td>          20.2451</td> <td>           0.5000</td>\n",
       "</tr>\n",
       "</table>"
      ],
      "text/plain": [
       "<class 'statsmodels.iolib.summary.Summary'>\n",
       "\"\"\"\n",
       "                              ARMA Model Results                              \n",
       "==============================================================================\n",
       "Dep. Variable:                   diff   No. Observations:                  365\n",
       "Model:                     ARMA(1, 0)   Log Likelihood               -3265.410\n",
       "Method:                       css-mle   S.D. of innovations           1858.242\n",
       "Date:                Sun, 06 Feb 2022   AIC                           6536.819\n",
       "Time:                        16:20:42   BIC                           6548.519\n",
       "Sample:                    02-05-2021   HQIC                          6541.469\n",
       "                         - 02-04-2022                                         \n",
       "==============================================================================\n",
       "                 coef    std err          z      P>|z|      [0.025      0.975]\n",
       "------------------------------------------------------------------------------\n",
       "const          9.4565     92.701      0.102      0.919    -172.233     191.146\n",
       "ar.L1.diff    -0.0494      0.052     -0.941      0.347      -0.152       0.053\n",
       "                                    Roots                                    \n",
       "=============================================================================\n",
       "                  Real          Imaginary           Modulus         Frequency\n",
       "-----------------------------------------------------------------------------\n",
       "AR.1          -20.2451           +0.0000j           20.2451            0.5000\n",
       "-----------------------------------------------------------------------------\n",
       "\"\"\""
      ]
     },
     "execution_count": 16,
     "metadata": {},
     "output_type": "execute_result"
    }
   ],
   "source": [
    "from statsmodels.tsa.arima_model import ARMA\n",
    "model_AR = ARMA(data['diff'], order=(1,0))\n",
    "result_AR = model_AR.fit()\n",
    "result_AR.summary()"
   ]
  },
  {
   "cell_type": "code",
   "execution_count": 17,
   "id": "53522da7",
   "metadata": {},
   "outputs": [
    {
     "name": "stderr",
     "output_type": "stream",
     "text": [
      "C:\\Users\\ouykh\\anaconda3\\lib\\site-packages\\statsmodels\\tsa\\arima_model.py:472: FutureWarning: \n",
      "statsmodels.tsa.arima_model.ARMA and statsmodels.tsa.arima_model.ARIMA have\n",
      "been deprecated in favor of statsmodels.tsa.arima.model.ARIMA (note the .\n",
      "between arima and model) and\n",
      "statsmodels.tsa.SARIMAX. These will be removed after the 0.12 release.\n",
      "\n",
      "statsmodels.tsa.arima.model.ARIMA makes use of the statespace framework and\n",
      "is both well tested and maintained.\n",
      "\n",
      "To silence this warning and continue using ARMA and ARIMA until they are\n",
      "removed, use:\n",
      "\n",
      "import warnings\n",
      "warnings.filterwarnings('ignore', 'statsmodels.tsa.arima_model.ARMA',\n",
      "                        FutureWarning)\n",
      "warnings.filterwarnings('ignore', 'statsmodels.tsa.arima_model.ARIMA',\n",
      "                        FutureWarning)\n",
      "\n",
      "  warnings.warn(ARIMA_DEPRECATION_WARN, FutureWarning)\n",
      "C:\\Users\\ouykh\\anaconda3\\lib\\site-packages\\statsmodels\\tsa\\base\\tsa_model.py:524: ValueWarning: No frequency information was provided, so inferred frequency D will be used.\n",
      "  warnings.warn('No frequency information was'\n"
     ]
    },
    {
     "data": {
      "text/html": [
       "<table class=\"simpletable\">\n",
       "<caption>ARMA Model Results</caption>\n",
       "<tr>\n",
       "  <th>Dep. Variable:</th>       <td>diff</td>       <th>  No. Observations:  </th>    <td>365</td>   \n",
       "</tr>\n",
       "<tr>\n",
       "  <th>Model:</th>            <td>ARMA(1, 0)</td>    <th>  Log Likelihood     </th> <td>-3265.410</td>\n",
       "</tr>\n",
       "<tr>\n",
       "  <th>Method:</th>             <td>css-mle</td>     <th>  S.D. of innovations</th> <td>1858.242</td> \n",
       "</tr>\n",
       "<tr>\n",
       "  <th>Date:</th>          <td>Sun, 06 Feb 2022</td> <th>  AIC                </th> <td>6536.819</td> \n",
       "</tr>\n",
       "<tr>\n",
       "  <th>Time:</th>              <td>16:20:48</td>     <th>  BIC                </th> <td>6548.519</td> \n",
       "</tr>\n",
       "<tr>\n",
       "  <th>Sample:</th>           <td>02-05-2021</td>    <th>  HQIC               </th> <td>6541.469</td> \n",
       "</tr>\n",
       "<tr>\n",
       "  <th></th>                 <td>- 02-04-2022</td>   <th>                     </th>     <td> </td>    \n",
       "</tr>\n",
       "</table>\n",
       "<table class=\"simpletable\">\n",
       "<tr>\n",
       "       <td></td>         <th>coef</th>     <th>std err</th>      <th>z</th>      <th>P>|z|</th>  <th>[0.025</th>    <th>0.975]</th>  \n",
       "</tr>\n",
       "<tr>\n",
       "  <th>const</th>      <td>    9.4565</td> <td>   92.701</td> <td>    0.102</td> <td> 0.919</td> <td> -172.233</td> <td>  191.146</td>\n",
       "</tr>\n",
       "<tr>\n",
       "  <th>ar.L1.diff</th> <td>   -0.0494</td> <td>    0.052</td> <td>   -0.941</td> <td> 0.347</td> <td>   -0.152</td> <td>    0.053</td>\n",
       "</tr>\n",
       "</table>\n",
       "<table class=\"simpletable\">\n",
       "<caption>Roots</caption>\n",
       "<tr>\n",
       "    <td></td>   <th>            Real</th>  <th>         Imaginary</th> <th>         Modulus</th>  <th>        Frequency</th>\n",
       "</tr>\n",
       "<tr>\n",
       "  <th>AR.1</th> <td>         -20.2451</td> <td>          +0.0000j</td> <td>          20.2451</td> <td>           0.5000</td>\n",
       "</tr>\n",
       "</table>"
      ],
      "text/plain": [
       "<class 'statsmodels.iolib.summary.Summary'>\n",
       "\"\"\"\n",
       "                              ARMA Model Results                              \n",
       "==============================================================================\n",
       "Dep. Variable:                   diff   No. Observations:                  365\n",
       "Model:                     ARMA(1, 0)   Log Likelihood               -3265.410\n",
       "Method:                       css-mle   S.D. of innovations           1858.242\n",
       "Date:                Sun, 06 Feb 2022   AIC                           6536.819\n",
       "Time:                        16:20:48   BIC                           6548.519\n",
       "Sample:                    02-05-2021   HQIC                          6541.469\n",
       "                         - 02-04-2022                                         \n",
       "==============================================================================\n",
       "                 coef    std err          z      P>|z|      [0.025      0.975]\n",
       "------------------------------------------------------------------------------\n",
       "const          9.4565     92.701      0.102      0.919    -172.233     191.146\n",
       "ar.L1.diff    -0.0494      0.052     -0.941      0.347      -0.152       0.053\n",
       "                                    Roots                                    \n",
       "=============================================================================\n",
       "                  Real          Imaginary           Modulus         Frequency\n",
       "-----------------------------------------------------------------------------\n",
       "AR.1          -20.2451           +0.0000j           20.2451            0.5000\n",
       "-----------------------------------------------------------------------------\n",
       "\"\"\""
      ]
     },
     "execution_count": 17,
     "metadata": {},
     "output_type": "execute_result"
    }
   ],
   "source": [
    "model_AR2 = ARMA(data['diff'], order=(5,0))\n",
    "result_AR2 = model_AR.fit()\n",
    "result_AR2.summary()"
   ]
  },
  {
   "cell_type": "code",
   "execution_count": 18,
   "id": "b159200f",
   "metadata": {},
   "outputs": [
    {
     "name": "stderr",
     "output_type": "stream",
     "text": [
      "C:\\Users\\ouykh\\anaconda3\\lib\\site-packages\\statsmodels\\tsa\\arima_model.py:472: FutureWarning: \n",
      "statsmodels.tsa.arima_model.ARMA and statsmodels.tsa.arima_model.ARIMA have\n",
      "been deprecated in favor of statsmodels.tsa.arima.model.ARIMA (note the .\n",
      "between arima and model) and\n",
      "statsmodels.tsa.SARIMAX. These will be removed after the 0.12 release.\n",
      "\n",
      "statsmodels.tsa.arima.model.ARIMA makes use of the statespace framework and\n",
      "is both well tested and maintained.\n",
      "\n",
      "To silence this warning and continue using ARMA and ARIMA until they are\n",
      "removed, use:\n",
      "\n",
      "import warnings\n",
      "warnings.filterwarnings('ignore', 'statsmodels.tsa.arima_model.ARMA',\n",
      "                        FutureWarning)\n",
      "warnings.filterwarnings('ignore', 'statsmodels.tsa.arima_model.ARIMA',\n",
      "                        FutureWarning)\n",
      "\n",
      "  warnings.warn(ARIMA_DEPRECATION_WARN, FutureWarning)\n",
      "C:\\Users\\ouykh\\anaconda3\\lib\\site-packages\\statsmodels\\tsa\\base\\tsa_model.py:524: ValueWarning: No frequency information was provided, so inferred frequency D will be used.\n",
      "  warnings.warn('No frequency information was'\n"
     ]
    },
    {
     "data": {
      "text/html": [
       "<table class=\"simpletable\">\n",
       "<caption>ARMA Model Results</caption>\n",
       "<tr>\n",
       "  <th>Dep. Variable:</th>       <td>diff</td>       <th>  No. Observations:  </th>    <td>365</td>   \n",
       "</tr>\n",
       "<tr>\n",
       "  <th>Model:</th>            <td>ARMA(0, 1)</td>    <th>  Log Likelihood     </th> <td>-3265.417</td>\n",
       "</tr>\n",
       "<tr>\n",
       "  <th>Method:</th>             <td>css-mle</td>     <th>  S.D. of innovations</th> <td>1858.280</td> \n",
       "</tr>\n",
       "<tr>\n",
       "  <th>Date:</th>          <td>Sun, 06 Feb 2022</td> <th>  AIC                </th> <td>6536.834</td> \n",
       "</tr>\n",
       "<tr>\n",
       "  <th>Time:</th>              <td>16:20:51</td>     <th>  BIC                </th> <td>6548.534</td> \n",
       "</tr>\n",
       "<tr>\n",
       "  <th>Sample:</th>           <td>02-05-2021</td>    <th>  HQIC               </th> <td>6541.484</td> \n",
       "</tr>\n",
       "<tr>\n",
       "  <th></th>                 <td>- 02-04-2022</td>   <th>                     </th>     <td> </td>    \n",
       "</tr>\n",
       "</table>\n",
       "<table class=\"simpletable\">\n",
       "<tr>\n",
       "       <td></td>         <th>coef</th>     <th>std err</th>      <th>z</th>      <th>P>|z|</th>  <th>[0.025</th>    <th>0.975]</th>  \n",
       "</tr>\n",
       "<tr>\n",
       "  <th>const</th>      <td>   10.0456</td> <td>   92.563</td> <td>    0.109</td> <td> 0.914</td> <td> -171.375</td> <td>  191.466</td>\n",
       "</tr>\n",
       "<tr>\n",
       "  <th>ma.L1.diff</th> <td>   -0.0485</td> <td>    0.052</td> <td>   -0.936</td> <td> 0.349</td> <td>   -0.150</td> <td>    0.053</td>\n",
       "</tr>\n",
       "</table>\n",
       "<table class=\"simpletable\">\n",
       "<caption>Roots</caption>\n",
       "<tr>\n",
       "    <td></td>   <th>            Real</th>  <th>         Imaginary</th> <th>         Modulus</th>  <th>        Frequency</th>\n",
       "</tr>\n",
       "<tr>\n",
       "  <th>MA.1</th> <td>          20.6102</td> <td>          +0.0000j</td> <td>          20.6102</td> <td>           0.0000</td>\n",
       "</tr>\n",
       "</table>"
      ],
      "text/plain": [
       "<class 'statsmodels.iolib.summary.Summary'>\n",
       "\"\"\"\n",
       "                              ARMA Model Results                              \n",
       "==============================================================================\n",
       "Dep. Variable:                   diff   No. Observations:                  365\n",
       "Model:                     ARMA(0, 1)   Log Likelihood               -3265.417\n",
       "Method:                       css-mle   S.D. of innovations           1858.280\n",
       "Date:                Sun, 06 Feb 2022   AIC                           6536.834\n",
       "Time:                        16:20:51   BIC                           6548.534\n",
       "Sample:                    02-05-2021   HQIC                          6541.484\n",
       "                         - 02-04-2022                                         \n",
       "==============================================================================\n",
       "                 coef    std err          z      P>|z|      [0.025      0.975]\n",
       "------------------------------------------------------------------------------\n",
       "const         10.0456     92.563      0.109      0.914    -171.375     191.466\n",
       "ma.L1.diff    -0.0485      0.052     -0.936      0.349      -0.150       0.053\n",
       "                                    Roots                                    \n",
       "=============================================================================\n",
       "                  Real          Imaginary           Modulus         Frequency\n",
       "-----------------------------------------------------------------------------\n",
       "MA.1           20.6102           +0.0000j           20.6102            0.0000\n",
       "-----------------------------------------------------------------------------\n",
       "\"\"\""
      ]
     },
     "execution_count": 18,
     "metadata": {},
     "output_type": "execute_result"
    }
   ],
   "source": [
    "model_MA = ARMA(data['diff'], order=(0,1))\n",
    "result_MA = model_MA.fit()\n",
    "result_MA.summary()"
   ]
  },
  {
   "cell_type": "code",
   "execution_count": 19,
   "id": "eacd582c",
   "metadata": {},
   "outputs": [
    {
     "name": "stderr",
     "output_type": "stream",
     "text": [
      "C:\\Users\\ouykh\\anaconda3\\lib\\site-packages\\statsmodels\\tsa\\arima_model.py:472: FutureWarning: \n",
      "statsmodels.tsa.arima_model.ARMA and statsmodels.tsa.arima_model.ARIMA have\n",
      "been deprecated in favor of statsmodels.tsa.arima.model.ARIMA (note the .\n",
      "between arima and model) and\n",
      "statsmodels.tsa.SARIMAX. These will be removed after the 0.12 release.\n",
      "\n",
      "statsmodels.tsa.arima.model.ARIMA makes use of the statespace framework and\n",
      "is both well tested and maintained.\n",
      "\n",
      "To silence this warning and continue using ARMA and ARIMA until they are\n",
      "removed, use:\n",
      "\n",
      "import warnings\n",
      "warnings.filterwarnings('ignore', 'statsmodels.tsa.arima_model.ARMA',\n",
      "                        FutureWarning)\n",
      "warnings.filterwarnings('ignore', 'statsmodels.tsa.arima_model.ARIMA',\n",
      "                        FutureWarning)\n",
      "\n",
      "  warnings.warn(ARIMA_DEPRECATION_WARN, FutureWarning)\n",
      "C:\\Users\\ouykh\\anaconda3\\lib\\site-packages\\statsmodels\\tsa\\base\\tsa_model.py:524: ValueWarning: No frequency information was provided, so inferred frequency D will be used.\n",
      "  warnings.warn('No frequency information was'\n"
     ]
    },
    {
     "data": {
      "text/html": [
       "<table class=\"simpletable\">\n",
       "<caption>ARMA Model Results</caption>\n",
       "<tr>\n",
       "  <th>Dep. Variable:</th>       <td>diff</td>       <th>  No. Observations:  </th>    <td>365</td>   \n",
       "</tr>\n",
       "<tr>\n",
       "  <th>Model:</th>            <td>ARMA(0, 5)</td>    <th>  Log Likelihood     </th> <td>-3264.540</td>\n",
       "</tr>\n",
       "<tr>\n",
       "  <th>Method:</th>             <td>css-mle</td>     <th>  S.D. of innovations</th> <td>1853.759</td> \n",
       "</tr>\n",
       "<tr>\n",
       "  <th>Date:</th>          <td>Sun, 06 Feb 2022</td> <th>  AIC                </th> <td>6543.079</td> \n",
       "</tr>\n",
       "<tr>\n",
       "  <th>Time:</th>              <td>16:20:53</td>     <th>  BIC                </th> <td>6570.379</td> \n",
       "</tr>\n",
       "<tr>\n",
       "  <th>Sample:</th>           <td>02-05-2021</td>    <th>  HQIC               </th> <td>6553.929</td> \n",
       "</tr>\n",
       "<tr>\n",
       "  <th></th>                 <td>- 02-04-2022</td>   <th>                     </th>     <td> </td>    \n",
       "</tr>\n",
       "</table>\n",
       "<table class=\"simpletable\">\n",
       "<tr>\n",
       "       <td></td>         <th>coef</th>     <th>std err</th>      <th>z</th>      <th>P>|z|</th>  <th>[0.025</th>    <th>0.975]</th>  \n",
       "</tr>\n",
       "<tr>\n",
       "  <th>const</th>      <td>   10.0456</td> <td>  101.664</td> <td>    0.099</td> <td> 0.921</td> <td> -189.212</td> <td>  209.303</td>\n",
       "</tr>\n",
       "<tr>\n",
       "  <th>ma.L1.diff</th> <td>   -0.0510</td> <td>    0.053</td> <td>   -0.968</td> <td> 0.333</td> <td>   -0.154</td> <td>    0.052</td>\n",
       "</tr>\n",
       "<tr>\n",
       "  <th>ma.L2.diff</th> <td>    0.0110</td> <td>    0.053</td> <td>    0.209</td> <td> 0.834</td> <td>   -0.092</td> <td>    0.115</td>\n",
       "</tr>\n",
       "<tr>\n",
       "  <th>ma.L3.diff</th> <td>    0.0328</td> <td>    0.054</td> <td>    0.605</td> <td> 0.545</td> <td>   -0.073</td> <td>    0.139</td>\n",
       "</tr>\n",
       "<tr>\n",
       "  <th>ma.L4.diff</th> <td>    0.0671</td> <td>    0.055</td> <td>    1.212</td> <td> 0.226</td> <td>   -0.041</td> <td>    0.176</td>\n",
       "</tr>\n",
       "<tr>\n",
       "  <th>ma.L5.diff</th> <td>   -0.0116</td> <td>    0.053</td> <td>   -0.218</td> <td> 0.827</td> <td>   -0.116</td> <td>    0.093</td>\n",
       "</tr>\n",
       "</table>\n",
       "<table class=\"simpletable\">\n",
       "<caption>Roots</caption>\n",
       "<tr>\n",
       "    <td></td>   <th>            Real</th>  <th>         Imaginary</th> <th>         Modulus</th>  <th>        Frequency</th>\n",
       "</tr>\n",
       "<tr>\n",
       "  <th>MA.1</th> <td>          -1.4584</td> <td>          -1.2855j</td> <td>           1.9441</td> <td>          -0.3850</td>\n",
       "</tr>\n",
       "<tr>\n",
       "  <th>MA.2</th> <td>          -1.4584</td> <td>          +1.2855j</td> <td>           1.9441</td> <td>           0.3850</td>\n",
       "</tr>\n",
       "<tr>\n",
       "  <th>MA.3</th> <td>           1.2029</td> <td>          -1.4756j</td> <td>           1.9038</td> <td>          -0.1411</td>\n",
       "</tr>\n",
       "<tr>\n",
       "  <th>MA.4</th> <td>           1.2029</td> <td>          +1.4756j</td> <td>           1.9038</td> <td>           0.1411</td>\n",
       "</tr>\n",
       "<tr>\n",
       "  <th>MA.5</th> <td>           6.2879</td> <td>          -0.0000j</td> <td>           6.2879</td> <td>          -0.0000</td>\n",
       "</tr>\n",
       "</table>"
      ],
      "text/plain": [
       "<class 'statsmodels.iolib.summary.Summary'>\n",
       "\"\"\"\n",
       "                              ARMA Model Results                              \n",
       "==============================================================================\n",
       "Dep. Variable:                   diff   No. Observations:                  365\n",
       "Model:                     ARMA(0, 5)   Log Likelihood               -3264.540\n",
       "Method:                       css-mle   S.D. of innovations           1853.759\n",
       "Date:                Sun, 06 Feb 2022   AIC                           6543.079\n",
       "Time:                        16:20:53   BIC                           6570.379\n",
       "Sample:                    02-05-2021   HQIC                          6553.929\n",
       "                         - 02-04-2022                                         \n",
       "==============================================================================\n",
       "                 coef    std err          z      P>|z|      [0.025      0.975]\n",
       "------------------------------------------------------------------------------\n",
       "const         10.0456    101.664      0.099      0.921    -189.212     209.303\n",
       "ma.L1.diff    -0.0510      0.053     -0.968      0.333      -0.154       0.052\n",
       "ma.L2.diff     0.0110      0.053      0.209      0.834      -0.092       0.115\n",
       "ma.L3.diff     0.0328      0.054      0.605      0.545      -0.073       0.139\n",
       "ma.L4.diff     0.0671      0.055      1.212      0.226      -0.041       0.176\n",
       "ma.L5.diff    -0.0116      0.053     -0.218      0.827      -0.116       0.093\n",
       "                                    Roots                                    \n",
       "=============================================================================\n",
       "                  Real          Imaginary           Modulus         Frequency\n",
       "-----------------------------------------------------------------------------\n",
       "MA.1           -1.4584           -1.2855j            1.9441           -0.3850\n",
       "MA.2           -1.4584           +1.2855j            1.9441            0.3850\n",
       "MA.3            1.2029           -1.4756j            1.9038           -0.1411\n",
       "MA.4            1.2029           +1.4756j            1.9038            0.1411\n",
       "MA.5            6.2879           -0.0000j            6.2879           -0.0000\n",
       "-----------------------------------------------------------------------------\n",
       "\"\"\""
      ]
     },
     "execution_count": 19,
     "metadata": {},
     "output_type": "execute_result"
    }
   ],
   "source": [
    "model_MA2 = ARMA(data['diff'], order=(0,5))\n",
    "result_MA2 = model_MA2.fit()\n",
    "result_MA2.summary()"
   ]
  },
  {
   "cell_type": "code",
   "execution_count": 20,
   "id": "243fff94",
   "metadata": {},
   "outputs": [
    {
     "name": "stderr",
     "output_type": "stream",
     "text": [
      "C:\\Users\\ouykh\\anaconda3\\lib\\site-packages\\statsmodels\\tsa\\arima_model.py:472: FutureWarning: \n",
      "statsmodels.tsa.arima_model.ARMA and statsmodels.tsa.arima_model.ARIMA have\n",
      "been deprecated in favor of statsmodels.tsa.arima.model.ARIMA (note the .\n",
      "between arima and model) and\n",
      "statsmodels.tsa.SARIMAX. These will be removed after the 0.12 release.\n",
      "\n",
      "statsmodels.tsa.arima.model.ARIMA makes use of the statespace framework and\n",
      "is both well tested and maintained.\n",
      "\n",
      "To silence this warning and continue using ARMA and ARIMA until they are\n",
      "removed, use:\n",
      "\n",
      "import warnings\n",
      "warnings.filterwarnings('ignore', 'statsmodels.tsa.arima_model.ARMA',\n",
      "                        FutureWarning)\n",
      "warnings.filterwarnings('ignore', 'statsmodels.tsa.arima_model.ARIMA',\n",
      "                        FutureWarning)\n",
      "\n",
      "  warnings.warn(ARIMA_DEPRECATION_WARN, FutureWarning)\n",
      "C:\\Users\\ouykh\\anaconda3\\lib\\site-packages\\statsmodels\\tsa\\base\\tsa_model.py:524: ValueWarning: No frequency information was provided, so inferred frequency D will be used.\n",
      "  warnings.warn('No frequency information was'\n",
      "C:\\Users\\ouykh\\anaconda3\\lib\\site-packages\\statsmodels\\base\\model.py:547: HessianInversionWarning: Inverting hessian failed, no bse or cov_params available\n",
      "  warnings.warn('Inverting hessian failed, no bse or cov_params '\n"
     ]
    },
    {
     "data": {
      "text/html": [
       "<table class=\"simpletable\">\n",
       "<caption>ARMA Model Results</caption>\n",
       "<tr>\n",
       "  <th>Dep. Variable:</th>       <td>diff</td>       <th>  No. Observations:  </th>    <td>365</td>   \n",
       "</tr>\n",
       "<tr>\n",
       "  <th>Model:</th>            <td>ARMA(5, 5)</td>    <th>  Log Likelihood     </th> <td>-3262.139</td>\n",
       "</tr>\n",
       "<tr>\n",
       "  <th>Method:</th>             <td>css-mle</td>     <th>  S.D. of innovations</th> <td>1832.815</td> \n",
       "</tr>\n",
       "<tr>\n",
       "  <th>Date:</th>          <td>Sun, 06 Feb 2022</td> <th>  AIC                </th> <td>6548.278</td> \n",
       "</tr>\n",
       "<tr>\n",
       "  <th>Time:</th>              <td>16:21:03</td>     <th>  BIC                </th> <td>6595.076</td> \n",
       "</tr>\n",
       "<tr>\n",
       "  <th>Sample:</th>           <td>02-05-2021</td>    <th>  HQIC               </th> <td>6566.876</td> \n",
       "</tr>\n",
       "<tr>\n",
       "  <th></th>                 <td>- 02-04-2022</td>   <th>                     </th>     <td> </td>    \n",
       "</tr>\n",
       "</table>\n",
       "<table class=\"simpletable\">\n",
       "<tr>\n",
       "       <td></td>         <th>coef</th>     <th>std err</th>      <th>z</th>      <th>P>|z|</th>  <th>[0.025</th>    <th>0.975]</th>  \n",
       "</tr>\n",
       "<tr>\n",
       "  <th>const</th>      <td>    4.7683</td> <td>   39.507</td> <td>    0.121</td> <td> 0.904</td> <td>  -72.663</td> <td>   82.200</td>\n",
       "</tr>\n",
       "<tr>\n",
       "  <th>ar.L1.diff</th> <td>    0.3727</td> <td>    0.186</td> <td>    2.002</td> <td> 0.045</td> <td>    0.008</td> <td>    0.738</td>\n",
       "</tr>\n",
       "<tr>\n",
       "  <th>ar.L2.diff</th> <td>   -0.0564</td> <td>    0.159</td> <td>   -0.356</td> <td> 0.722</td> <td>   -0.367</td> <td>    0.255</td>\n",
       "</tr>\n",
       "<tr>\n",
       "  <th>ar.L3.diff</th> <td>    0.3304</td> <td>    0.128</td> <td>    2.575</td> <td> 0.010</td> <td>    0.079</td> <td>    0.582</td>\n",
       "</tr>\n",
       "<tr>\n",
       "  <th>ar.L4.diff</th> <td>   -0.4522</td> <td>    0.166</td> <td>   -2.725</td> <td> 0.006</td> <td>   -0.778</td> <td>   -0.127</td>\n",
       "</tr>\n",
       "<tr>\n",
       "  <th>ar.L5.diff</th> <td>    0.7572</td> <td>    0.170</td> <td>    4.458</td> <td> 0.000</td> <td>    0.424</td> <td>    1.090</td>\n",
       "</tr>\n",
       "<tr>\n",
       "  <th>ma.L1.diff</th> <td>   -0.4345</td> <td>    0.167</td> <td>   -2.598</td> <td> 0.009</td> <td>   -0.762</td> <td>   -0.107</td>\n",
       "</tr>\n",
       "<tr>\n",
       "  <th>ma.L2.diff</th> <td>    0.0583</td> <td>    0.139</td> <td>    0.420</td> <td> 0.675</td> <td>   -0.214</td> <td>    0.330</td>\n",
       "</tr>\n",
       "<tr>\n",
       "  <th>ma.L3.diff</th> <td>   -0.2928</td> <td>    0.118</td> <td>   -2.488</td> <td> 0.013</td> <td>   -0.523</td> <td>   -0.062</td>\n",
       "</tr>\n",
       "<tr>\n",
       "  <th>ma.L4.diff</th> <td>    0.5038</td> <td>    0.148</td> <td>    3.395</td> <td> 0.001</td> <td>    0.213</td> <td>    0.795</td>\n",
       "</tr>\n",
       "<tr>\n",
       "  <th>ma.L5.diff</th> <td>   -0.8347</td> <td>    0.156</td> <td>   -5.355</td> <td> 0.000</td> <td>   -1.140</td> <td>   -0.529</td>\n",
       "</tr>\n",
       "</table>\n",
       "<table class=\"simpletable\">\n",
       "<caption>Roots</caption>\n",
       "<tr>\n",
       "    <td></td>   <th>            Real</th>  <th>         Imaginary</th> <th>         Modulus</th>  <th>        Frequency</th>\n",
       "</tr>\n",
       "<tr>\n",
       "  <th>AR.1</th> <td>          -0.7127</td> <td>          -0.7138j</td> <td>           1.0087</td> <td>          -0.3749</td>\n",
       "</tr>\n",
       "<tr>\n",
       "  <th>AR.2</th> <td>          -0.7127</td> <td>          +0.7138j</td> <td>           1.0087</td> <td>           0.3749</td>\n",
       "</tr>\n",
       "<tr>\n",
       "  <th>AR.3</th> <td>           1.0146</td> <td>          -0.0000j</td> <td>           1.0146</td> <td>          -0.0000</td>\n",
       "</tr>\n",
       "<tr>\n",
       "  <th>AR.4</th> <td>           0.5041</td> <td>          -1.0125j</td> <td>           1.1311</td> <td>          -0.1765</td>\n",
       "</tr>\n",
       "<tr>\n",
       "  <th>AR.5</th> <td>           0.5041</td> <td>          +1.0125j</td> <td>           1.1311</td> <td>           0.1765</td>\n",
       "</tr>\n",
       "<tr>\n",
       "  <th>MA.1</th> <td>          -0.7095</td> <td>          -0.7048j</td> <td>           1.0000</td> <td>          -0.3755</td>\n",
       "</tr>\n",
       "<tr>\n",
       "  <th>MA.2</th> <td>          -0.7095</td> <td>          +0.7048j</td> <td>           1.0000</td> <td>           0.3755</td>\n",
       "</tr>\n",
       "<tr>\n",
       "  <th>MA.3</th> <td>           1.0000</td> <td>          -0.0000j</td> <td>           1.0000</td> <td>          -0.0000</td>\n",
       "</tr>\n",
       "<tr>\n",
       "  <th>MA.4</th> <td>           0.5112</td> <td>          -0.9678j</td> <td>           1.0945</td> <td>          -0.1727</td>\n",
       "</tr>\n",
       "<tr>\n",
       "  <th>MA.5</th> <td>           0.5112</td> <td>          +0.9678j</td> <td>           1.0945</td> <td>           0.1727</td>\n",
       "</tr>\n",
       "</table>"
      ],
      "text/plain": [
       "<class 'statsmodels.iolib.summary.Summary'>\n",
       "\"\"\"\n",
       "                              ARMA Model Results                              \n",
       "==============================================================================\n",
       "Dep. Variable:                   diff   No. Observations:                  365\n",
       "Model:                     ARMA(5, 5)   Log Likelihood               -3262.139\n",
       "Method:                       css-mle   S.D. of innovations           1832.815\n",
       "Date:                Sun, 06 Feb 2022   AIC                           6548.278\n",
       "Time:                        16:21:03   BIC                           6595.076\n",
       "Sample:                    02-05-2021   HQIC                          6566.876\n",
       "                         - 02-04-2022                                         \n",
       "==============================================================================\n",
       "                 coef    std err          z      P>|z|      [0.025      0.975]\n",
       "------------------------------------------------------------------------------\n",
       "const          4.7683     39.507      0.121      0.904     -72.663      82.200\n",
       "ar.L1.diff     0.3727      0.186      2.002      0.045       0.008       0.738\n",
       "ar.L2.diff    -0.0564      0.159     -0.356      0.722      -0.367       0.255\n",
       "ar.L3.diff     0.3304      0.128      2.575      0.010       0.079       0.582\n",
       "ar.L4.diff    -0.4522      0.166     -2.725      0.006      -0.778      -0.127\n",
       "ar.L5.diff     0.7572      0.170      4.458      0.000       0.424       1.090\n",
       "ma.L1.diff    -0.4345      0.167     -2.598      0.009      -0.762      -0.107\n",
       "ma.L2.diff     0.0583      0.139      0.420      0.675      -0.214       0.330\n",
       "ma.L3.diff    -0.2928      0.118     -2.488      0.013      -0.523      -0.062\n",
       "ma.L4.diff     0.5038      0.148      3.395      0.001       0.213       0.795\n",
       "ma.L5.diff    -0.8347      0.156     -5.355      0.000      -1.140      -0.529\n",
       "                                    Roots                                    \n",
       "=============================================================================\n",
       "                  Real          Imaginary           Modulus         Frequency\n",
       "-----------------------------------------------------------------------------\n",
       "AR.1           -0.7127           -0.7138j            1.0087           -0.3749\n",
       "AR.2           -0.7127           +0.7138j            1.0087            0.3749\n",
       "AR.3            1.0146           -0.0000j            1.0146           -0.0000\n",
       "AR.4            0.5041           -1.0125j            1.1311           -0.1765\n",
       "AR.5            0.5041           +1.0125j            1.1311            0.1765\n",
       "MA.1           -0.7095           -0.7048j            1.0000           -0.3755\n",
       "MA.2           -0.7095           +0.7048j            1.0000            0.3755\n",
       "MA.3            1.0000           -0.0000j            1.0000           -0.0000\n",
       "MA.4            0.5112           -0.9678j            1.0945           -0.1727\n",
       "MA.5            0.5112           +0.9678j            1.0945            0.1727\n",
       "-----------------------------------------------------------------------------\n",
       "\"\"\""
      ]
     },
     "execution_count": 20,
     "metadata": {},
     "output_type": "execute_result"
    }
   ],
   "source": [
    "model_ARMA = ARMA(data['diff'], order=(5,5))\n",
    "result_ARMA = model_ARMA.fit()\n",
    "result_ARMA.summary()"
   ]
  },
  {
   "cell_type": "code",
   "execution_count": 21,
   "id": "919e4606",
   "metadata": {},
   "outputs": [
    {
     "data": {
      "text/plain": [
       "365"
      ]
     },
     "execution_count": 21,
     "metadata": {},
     "output_type": "execute_result"
    }
   ],
   "source": [
    "len(data)"
   ]
  },
  {
   "cell_type": "code",
   "execution_count": 22,
   "id": "9396de01",
   "metadata": {},
   "outputs": [],
   "source": [
    "data_train = data['diff'][:290]\n",
    "data_test = data ['diff'][290:]"
   ]
  },
  {
   "cell_type": "code",
   "execution_count": 23,
   "id": "308333b6",
   "metadata": {},
   "outputs": [
    {
     "name": "stdout",
     "output_type": "stream",
     "text": [
      "290\n",
      "75\n"
     ]
    }
   ],
   "source": [
    "print(len(data_train))\n",
    "print(len(data_test))"
   ]
  },
  {
   "cell_type": "code",
   "execution_count": 24,
   "id": "ab7f6083",
   "metadata": {},
   "outputs": [
    {
     "data": {
      "text/html": [
       "<div>\n",
       "<style scoped>\n",
       "    .dataframe tbody tr th:only-of-type {\n",
       "        vertical-align: middle;\n",
       "    }\n",
       "\n",
       "    .dataframe tbody tr th {\n",
       "        vertical-align: top;\n",
       "    }\n",
       "\n",
       "    .dataframe thead th {\n",
       "        text-align: right;\n",
       "    }\n",
       "</style>\n",
       "<table border=\"1\" class=\"dataframe\">\n",
       "  <thead>\n",
       "    <tr style=\"text-align: right;\">\n",
       "      <th></th>\n",
       "      <th>Date</th>\n",
       "      <th>Close</th>\n",
       "      <th>diff</th>\n",
       "    </tr>\n",
       "    <tr>\n",
       "      <th>Date</th>\n",
       "      <th></th>\n",
       "      <th></th>\n",
       "      <th></th>\n",
       "    </tr>\n",
       "  </thead>\n",
       "  <tbody>\n",
       "    <tr>\n",
       "      <th>2022-01-31</th>\n",
       "      <td>2022-01-31</td>\n",
       "      <td>38483.125000</td>\n",
       "      <td>565.523437</td>\n",
       "    </tr>\n",
       "    <tr>\n",
       "      <th>2022-02-01</th>\n",
       "      <td>2022-02-01</td>\n",
       "      <td>38743.273438</td>\n",
       "      <td>260.148438</td>\n",
       "    </tr>\n",
       "    <tr>\n",
       "      <th>2022-02-02</th>\n",
       "      <td>2022-02-02</td>\n",
       "      <td>36952.984375</td>\n",
       "      <td>-1790.289063</td>\n",
       "    </tr>\n",
       "    <tr>\n",
       "      <th>2022-02-03</th>\n",
       "      <td>2022-02-03</td>\n",
       "      <td>37154.601563</td>\n",
       "      <td>201.617188</td>\n",
       "    </tr>\n",
       "    <tr>\n",
       "      <th>2022-02-04</th>\n",
       "      <td>2022-02-04</td>\n",
       "      <td>40592.703125</td>\n",
       "      <td>3438.101562</td>\n",
       "    </tr>\n",
       "  </tbody>\n",
       "</table>\n",
       "</div>"
      ],
      "text/plain": [
       "                 Date         Close         diff\n",
       "Date                                            \n",
       "2022-01-31 2022-01-31  38483.125000   565.523437\n",
       "2022-02-01 2022-02-01  38743.273438   260.148438\n",
       "2022-02-02 2022-02-02  36952.984375 -1790.289063\n",
       "2022-02-03 2022-02-03  37154.601563   201.617188\n",
       "2022-02-04 2022-02-04  40592.703125  3438.101562"
      ]
     },
     "execution_count": 24,
     "metadata": {},
     "output_type": "execute_result"
    }
   ],
   "source": [
    "data.tail()"
   ]
  },
  {
   "cell_type": "code",
   "execution_count": 25,
   "id": "52e37992",
   "metadata": {},
   "outputs": [
    {
     "data": {
      "text/plain": [
       "2022-02-05   -212.613809\n",
       "2022-02-06    -72.678446\n",
       "2022-02-07    149.449576\n",
       "2022-02-08    237.507605\n",
       "2022-02-09    -29.526980\n",
       "2022-02-10     10.045605\n",
       "2022-02-11     10.045605\n",
       "Freq: D, dtype: float64"
      ]
     },
     "execution_count": 25,
     "metadata": {},
     "output_type": "execute_result"
    }
   ],
   "source": [
    "pred_model = result_MA2.predict(start= 365, end= 371)\n",
    "pred_model"
   ]
  },
  {
   "cell_type": "code",
   "execution_count": 26,
   "id": "0bba0353",
   "metadata": {},
   "outputs": [],
   "source": [
    "pred_test = pd.date_range (\"2022-01-20\", periods = 6 ,freq=\"D\")"
   ]
  },
  {
   "cell_type": "code",
   "execution_count": 28,
   "id": "62af6d1a",
   "metadata": {},
   "outputs": [],
   "source": [
    "def predictions(pred_model):\n",
    "    result = [data.loc['2022-01-20 00:00:00', 'Close']]\n",
    "    for x in range (1,6):\n",
    "        result.append(result[-1]+pred_model[x])\n",
    "    return result"
   ]
  },
  {
   "cell_type": "code",
   "execution_count": 29,
   "id": "8464a5c7",
   "metadata": {},
   "outputs": [],
   "source": [
    "result = predictions(pred_model)"
   ]
  },
  {
   "cell_type": "code",
   "execution_count": 30,
   "id": "473e502f",
   "metadata": {},
   "outputs": [
    {
     "data": {
      "text/plain": [
       "[40680.417969,\n",
       " 40607.73952263721,\n",
       " 40757.18909837925,\n",
       " 40994.696703316324,\n",
       " 40965.16972325954,\n",
       " 40975.21532865604]"
      ]
     },
     "execution_count": 30,
     "metadata": {},
     "output_type": "execute_result"
    }
   ],
   "source": [
    "result"
   ]
  },
  {
   "cell_type": "code",
   "execution_count": null,
   "id": "2cf48209",
   "metadata": {},
   "outputs": [],
   "source": []
  },
  {
   "cell_type": "code",
   "execution_count": null,
   "id": "03b339b1",
   "metadata": {},
   "outputs": [],
   "source": []
  }
 ],
 "metadata": {
  "kernelspec": {
   "display_name": "Python 3",
   "language": "python",
   "name": "python3"
  },
  "language_info": {
   "codemirror_mode": {
    "name": "ipython",
    "version": 3
   },
   "file_extension": ".py",
   "mimetype": "text/x-python",
   "name": "python",
   "nbconvert_exporter": "python",
   "pygments_lexer": "ipython3",
   "version": "3.8.8"
  }
 },
 "nbformat": 4,
 "nbformat_minor": 5
}
