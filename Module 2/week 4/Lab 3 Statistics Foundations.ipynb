{
 "cells": [
  {
   "cell_type": "markdown",
   "id": "d37ea99c",
   "metadata": {},
   "source": [
    "### Part 1"
   ]
  },
  {
   "cell_type": "markdown",
   "id": "0ab79906",
   "metadata": {},
   "source": [
    "# Challenge 1\n",
    "\n",
    "Find a and b, if median=42, mean=50 \n",
    "20,34, 34, 12, 56, 110, 49, a, b.\n",
    "****\n",
    "order the serie: 12,20,34,34,a=42,49,56,110,b\n",
    "\n",
    "with one of the value is taking the median value\n",
    "\n",
    "(b + sum of serie) /nb of values: 9 = mean:50\n",
    "b= (50*9)-357 = 93 "
   ]
  },
  {
   "cell_type": "markdown",
   "id": "e0a851cb",
   "metadata": {},
   "source": [
    "# Challenge 2\n",
    "A car hit an average speed of v1 = 60 kmph in the first half of the journey,\n",
    "and hit an average speed of v2 = 110 kmph in the second half of the journey. \n",
    "Determine the average speed of the car.\n",
    "****\n",
    "the average of the two average speed (85) would not be correct/reliable to represent the average speed of the whole journey.\n",
    "we are missing the range... \n",
    "for instance, taking math marks, 2 marks of 8 and 12, mean is 10 ( (8+12)/2 )\n",
    "physics marks 4 marks of 8, 12, 16 and 20, mean is 14 ( (8+12+16+20)/4 )\n",
    "math-physics mean would be (10+14)/2 = 12\n",
    "whereas the mean of the 6 marks would be (8 + 12 + 8 + 12 + 16 + 20)/6 = 76/6 = 12.66 vs 12"
   ]
  },
  {
   "cell_type": "markdown",
   "id": "326e6fff",
   "metadata": {},
   "source": [
    "# Challenge 3 \n",
    "The lifetimes of 400 light-bulbs were found to the nearest hour. \n",
    "The results were recorded as follows. \n",
    "Lifetime (hours) 0–199 200–399 400–599 600–799 800–999 1000–1199 1200–1999 Frequency 143 97 64 51 14 14 17 \n",
    "Construct a histogram and cumulative frequency polygon for this dataset. \n",
    "Estimate the percentage of bulbs with lifetime less than 480 hours.\n",
    "****\n",
    "\n",
    "less than 480 hours\n",
    "143+97+64=304 \n",
    "this is for 400\n",
    "for 100, I get 76% (304*100/400)"
   ]
  },
  {
   "cell_type": "markdown",
   "id": "87a7dad3",
   "metadata": {},
   "source": [
    "# Challenge 4 \n",
    "The time between arrival of 60 patients at an intensive care unit were recorded to the nearest hour. \n",
    "The data are shown below. \n",
    "Time (hours) 0–19 20–39 40–59 60–79 80–99 100–119 120–139 140–159 160–179 \n",
    "Frequency 16 13 17 4 4 3 1 1 1 \n",
    "Determine the median, mean and standard deviation for this dataset.\n",
    "****\n",
    "Finding the Median of Grouped Data\n",
    "\n",
    "Median: 22,1\n",
    "> there are 60 observations, which is an even number. Therefore, the median is the arithmetic mean of 30th and 31th observation. According to the table, the numbers in the 30th and 31th position are located in the range 40–59th hours. \n",
    "To find the median of a grouped data, we have the formula\n",
    "Median=l+(((N/2)−F)/f))*h    where \n",
    "l = lower limit of the median class\n",
    "f = frequency of the median class\n",
    "F = cumulative frequency of the class preceding the median class\n",
    "N = total number of observations\n",
    "h = width of the median class\n",
    "40+(((60/2)-46)/17)*19= 22,1 \n",
    "\n",
    "Mean: 28\n",
    "> Determine the midpoint for each interval: 9,5 ; 19,5...\n",
    "Multiply each midpoint by the frequency for the class: 9,5*16, 19,5*13...\n",
    "Add the results of the multiplication and divide the sum (1680) by 60.\n",
    "\n",
    "Standard deviation: 18,24\n",
    "> for each range; calculate \n",
    "a = squared of (the midpoint of the group - the mean) x the frequency of the group\n",
    "b = sum of a's and divide by 60\n",
    "st dev = square root of b"
   ]
  },
  {
   "cell_type": "markdown",
   "id": "f533eb8b",
   "metadata": {},
   "source": [
    "### Part 2"
   ]
  },
  {
   "cell_type": "markdown",
   "id": "fcbe387d",
   "metadata": {},
   "source": [
    "# Challenge 1\n",
    "One player rolls two dices. Describe the measurable space and the random variable for:\n",
    "\n",
    "A. The values that the player obtains\n",
    "> (1,1),(1,2),(1,3),(1,4),(1,5),(1,6),(2,1),(2,2),(2,3),(2,4),(2,5),(2,6),(3,1),(3,2),(3,3),(3,4),(3,5),(3,6),(4,1),(4,2),(4,3),(4,4),(4,5),(4,6),(5,1),(5,2),(5,3),(5,4),(5,5),(5,6),(6,1),(6,2),(6,3),(6,4),(6,5),(6,6)\n",
    "\n",
    "B. The sum of the values obtained.\n",
    "> X = 2,3,4,5,6,7,8,9,10,11,12\n",
    "\n",
    "C. The maximum value obtained after rolling both dices.\n",
    "> max= 12\n",
    "\n",
    "Describe the following events:\n",
    "\n",
    "Case A: Both values are greater than 5.\n",
    "> 4 chances out of 36 (1/9)\n",
    "\n",
    "Case B: The sum of values is even.\n",
    "> even:2,4,6,8,10,12, it makes 6 out of 12 =1/2 chances\n",
    "\n",
    "Case C: The maximum is the value of both rolls.\n",
    "> 1 chance of out 36"
   ]
  },
  {
   "cell_type": "markdown",
   "id": "82ad1496",
   "metadata": {},
   "source": [
    "### Challenge 2\n",
    "One player picks two cards from a poker deck. Describe the measurable space and the random variable for:\n",
    "\n",
    "A. The number of figures he picks.\n",
    "> out of the 52 cards, there are 12 figures, probability to pick 1 figure is 12/52\n",
    "> probability to pick 2 figures 12/52*11/51 = 132/2652 or 33/663 or 0,04977\n",
    "\n",
    "B. The sum of card values. Consider that the value of figures is 10 and the value of aces is 15.\n",
    "> X= 4,5,6,7,8,9,10,11,12,13,14,15,16,17,18,19,20,21,22,23,24,25,30\n",
    "\n",
    "C. The number of hearts or spades he picks.\n",
    "> hearts = 13/52 and 12/51 = 156/2652\n",
    "> spades = 13/52 and 12/51 = 156/2652\n",
    "> so heart and spade = 13/52 and 13/52 = 169/2704\n",
    "\n",
    "Describe the following events:\n",
    "\n",
    "Case A: The number of figures in the cards the player picked is two.\n",
    "> probability to pick 2 figures is 12/52*11/51 = 132/2652 or 33/663 or 0,04977\n",
    "\n",
    "Case B: The sum of card values is 17.\n",
    "> X contains 23 values so it could be 1 possibility out of 23 however ponderation might be needed here as the figures count for 10 as well as the 10 which mean 4 more chances?\n",
    "\n",
    "Case C: The value of both cards is less than 8.\n",
    "> 6x4 chances out of 52 which equal 6/13"
   ]
  },
  {
   "cell_type": "markdown",
   "id": "2e954bdc",
   "metadata": {},
   "source": [
    "### Challenge 3\n",
    "Two players roll a dice. Describe the measurable space and the random variable for:\n",
    "A. The score of player A.\n",
    "> score range X= 1,2,3,4,5,6\n",
    "\n",
    "B. The greatest score.\n",
    "> 6, 1 chance out of 6\n",
    "\n",
    "C. The earnings of player A if the game rules state that:\n",
    "\"The player with the greatest score gets a coin from the other player.\".\n",
    "> player A has 50% chance to earn a coin\n",
    "\n",
    "D. The earnings of player A if the game rules state that:\n",
    "\"The player with the greatest score gets as many coins as the difference between the score of player A and player B.\".\n",
    "> the difference between the dice result are X= 5,4,3,2,1. however this is a tie case.\n",
    "\n",
    "Describe the following events:\n",
    "Case A: The score of player A is 2.\n",
    "> there's one chance out of 6\n",
    "\n",
    "Case B: The greatest score is lower or equal than 2.\n",
    "> out of the 36 random variable when the 2 players roll the dices, there are only 2 cases (not tie). this means there is 1 chance out of 18.\n",
    "\n",
    "Case C: Considering the case where the winner gets as many coins as the difference between scores (D), describe:\n",
    "Player A wins at least 4 coins.\n",
    "> given that the difference btw the dices are 5,4,3,2,1, at least 4 coins happens 2 times out of 5. However player A or B can have the greatest score and there is also the tie case. Hence player A chances are 1 out of 6. \n",
    "\n",
    "Player A loses more than 2 coins.\n",
    "> considering 50% chances to win/lose, 1/6 chances of tie, and losing more than 2 coins match 3 cases out of 5, this gives a 2/36 probability.\n",
    "\n",
    "Player A neither wins nor loses coins.\n",
    "> out of the 36 possibilities, there are 6 cases where the values are equals, this makes 1 chance out of 6"
   ]
  },
  {
   "cell_type": "markdown",
   "id": "caa716af",
   "metadata": {},
   "source": [
    "### Part 3"
   ]
  },
  {
   "attachments": {},
   "cell_type": "markdown",
   "id": "2bf1952f",
   "metadata": {},
   "source": [
    "Challenge 1\n",
    "> MEAN 79,9 \n",
    "\n",
    "> SUM 1199\n",
    "\n",
    "> MIN 56\n",
    "\n",
    "> MAX 98\n",
    "\n",
    "> STANDARD DEVIATION 14,7\n",
    "\n",
    "> VARIANCE 231"
   ]
  }
 ],
 "metadata": {
  "kernelspec": {
   "display_name": "Python 3",
   "language": "python",
   "name": "python3"
  },
  "language_info": {
   "codemirror_mode": {
    "name": "ipython",
    "version": 3
   },
   "file_extension": ".py",
   "mimetype": "text/x-python",
   "name": "python",
   "nbconvert_exporter": "python",
   "pygments_lexer": "ipython3",
   "version": "3.8.8"
  }
 },
 "nbformat": 4,
 "nbformat_minor": 5
}
