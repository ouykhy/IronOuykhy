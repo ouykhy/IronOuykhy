{
 "cells": [
  {
   "cell_type": "code",
   "execution_count": 1,
   "id": "e1577795",
   "metadata": {},
   "outputs": [
    {
     "data": {
      "text/plain": [
       "5"
      ]
     },
     "execution_count": 1,
     "metadata": {},
     "output_type": "execute_result"
    }
   ],
   "source": [
    "def count_sheep (sheeplist,x):\n",
    "    count = 0\n",
    "    for ele in sheeplist:\n",
    "        if (ele == x):\n",
    "            count = count +1\n",
    "    return count\n",
    "\n",
    "   \n",
    "sheeplist = [\"present\", \"present\", \"present\", \"missing\", \"present\", \"present\", \"missing\"]\n",
    "x = \"present\"\n",
    "count_sheep(sheeplist,x)"
   ]
  },
  {
   "cell_type": "code",
   "execution_count": 2,
   "id": "04ee356b",
   "metadata": {},
   "outputs": [
    {
     "data": {
      "text/plain": [
       "['Keep', 'Keep', 'Keep', 'Keep', 'Keep']"
      ]
     },
     "execution_count": 2,
     "metadata": {},
     "output_type": "execute_result"
    }
   ],
   "source": [
    "def remove_second (list):\n",
    "    del list[1::2]\n",
    "    return list\n",
    "\n",
    "my_list =[\"Keep\", \"Remove\", \"Keep\", \"Remove\", \"Keep\", \"Remove\", \"Keep\", \"Remove\", \"Keep\"]\n",
    "remove_second(my_list)"
   ]
  },
  {
   "cell_type": "code",
   "execution_count": 3,
   "id": "f4e1d97c",
   "metadata": {},
   "outputs": [
    {
     "data": {
      "text/plain": [
       "[7, 9, 5, 8, 4, 3]"
      ]
     },
     "execution_count": 3,
     "metadata": {},
     "output_type": "execute_result"
    }
   ],
   "source": [
    "def reverse_array (number):\n",
    "    x = [int(a) for a in str(number)]\n",
    "    x.reverse()\n",
    "    return x\n",
    "\n",
    "number = 348597\n",
    "reverse_array(number)"
   ]
  },
  {
   "cell_type": "code",
   "execution_count": 4,
   "id": "6df27c40",
   "metadata": {},
   "outputs": [
    {
     "data": {
      "text/plain": [
       "'811181'"
      ]
     },
     "execution_count": 4,
     "metadata": {},
     "output_type": "execute_result"
    }
   ],
   "source": [
    "def square_ev_digit (number):\n",
    "    digit = [int(a) for a in str(number)]\n",
    "    return ''.join(str(int(d)**2)for d in digit)\n",
    "\n",
    "number = 9119\n",
    "square_ev_digit(number)"
   ]
  },
  {
   "cell_type": "code",
   "execution_count": 9,
   "id": "0d36448c",
   "metadata": {},
   "outputs": [
    {
     "name": "stdout",
     "output_type": "stream",
     "text": [
      "[[1, 0], [8, 0], [4, 0]]\n"
     ]
    }
   ],
   "source": [
    "def count_spec_digits (integers_list, digits_list):\n",
    "    print([[x,integers_list.count(x)] for x in (digits_list)])\n",
    "\n",
    "integers_list = [-18, -31, 81, -19, 111, -888]\n",
    "digits_list = [1, 8, 4]\n",
    "count_spec_digits(integers_list, digits_list)"
   ]
  }
 ],
 "metadata": {
  "kernelspec": {
   "display_name": "Python 3",
   "language": "python",
   "name": "python3"
  },
  "language_info": {
   "codemirror_mode": {
    "name": "ipython",
    "version": 3
   },
   "file_extension": ".py",
   "mimetype": "text/x-python",
   "name": "python",
   "nbconvert_exporter": "python",
   "pygments_lexer": "ipython3",
   "version": "3.8.8"
  }
 },
 "nbformat": 4,
 "nbformat_minor": 5
}
