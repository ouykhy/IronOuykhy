{
 "cells": [
  {
   "cell_type": "markdown",
   "metadata": {},
   "source": [
    "# Intrduction to NumPy\n",
    "\n",
    "\n",
    "#### 1. Import NumPy under the name np."
   ]
  },
  {
   "cell_type": "code",
   "execution_count": 4,
   "metadata": {},
   "outputs": [],
   "source": [
    "import numpy as np"
   ]
  },
  {
   "cell_type": "markdown",
   "metadata": {},
   "source": [
    "#### 2. Print your NumPy version."
   ]
  },
  {
   "cell_type": "code",
   "execution_count": 5,
   "metadata": {},
   "outputs": [
    {
     "name": "stdout",
     "output_type": "stream",
     "text": [
      "1.20.1\n"
     ]
    }
   ],
   "source": [
    "print(np.__version__)"
   ]
  },
  {
   "cell_type": "markdown",
   "metadata": {},
   "source": [
    "#### 3. Generate a 2x3x5 3-dimensional array with random values. Assign the array to variable *a*.\n",
    "**Challenge**: there are at least three easy ways that use numpy to generate random arrays. How many ways can you find?"
   ]
  },
  {
   "cell_type": "code",
   "execution_count": 6,
   "metadata": {},
   "outputs": [
    {
     "data": {
      "text/plain": [
       "array([[[0.75776751, 0.29447034, 0.5176093 , 0.94234779, 0.70343545],\n",
       "        [0.06199679, 0.66414607, 0.9741012 , 0.62210248, 0.64279751],\n",
       "        [0.06766557, 0.59258317, 0.52998326, 0.96252695, 0.51693544]],\n",
       "\n",
       "       [[0.69518674, 0.46524849, 0.97152896, 0.89469892, 0.72097317],\n",
       "        [0.06745306, 0.27197333, 0.35885652, 0.5588114 , 0.48132518],\n",
       "        [0.91558802, 0.75963628, 0.97434228, 0.49777704, 0.4129498 ]]])"
      ]
     },
     "execution_count": 6,
     "metadata": {},
     "output_type": "execute_result"
    }
   ],
   "source": [
    "a = np.random.random((2,3,5))\n",
    "a"
   ]
  },
  {
   "cell_type": "code",
   "execution_count": 7,
   "metadata": {},
   "outputs": [
    {
     "data": {
      "text/plain": [
       "array([[[0.22131861, 0.67913047, 0.05880839, 0.97714413, 0.09695589],\n",
       "        [0.22581897, 0.38891428, 0.88410562, 0.60013096, 0.68890101],\n",
       "        [0.60232168, 0.21263816, 0.56224734, 0.88003292, 0.77056202]],\n",
       "\n",
       "       [[0.32965298, 0.64280804, 0.75489   , 0.89724396, 0.94192406],\n",
       "        [0.36146615, 0.19107918, 0.07322479, 0.85995981, 0.68964339],\n",
       "        [0.99136376, 0.58640527, 0.92220403, 0.39201649, 0.68053744]]])"
      ]
     },
     "execution_count": 7,
     "metadata": {},
     "output_type": "execute_result"
    }
   ],
   "source": [
    "a = np.random.rand(2,3,5)\n",
    "a"
   ]
  },
  {
   "cell_type": "code",
   "execution_count": 8,
   "metadata": {},
   "outputs": [],
   "source": [
    "# Method 3"
   ]
  },
  {
   "cell_type": "markdown",
   "metadata": {},
   "source": [
    "#### 4. Print *a*.\n"
   ]
  },
  {
   "cell_type": "code",
   "execution_count": 9,
   "metadata": {},
   "outputs": [
    {
     "name": "stdout",
     "output_type": "stream",
     "text": [
      "[[[0.22131861 0.67913047 0.05880839 0.97714413 0.09695589]\n",
      "  [0.22581897 0.38891428 0.88410562 0.60013096 0.68890101]\n",
      "  [0.60232168 0.21263816 0.56224734 0.88003292 0.77056202]]\n",
      "\n",
      " [[0.32965298 0.64280804 0.75489    0.89724396 0.94192406]\n",
      "  [0.36146615 0.19107918 0.07322479 0.85995981 0.68964339]\n",
      "  [0.99136376 0.58640527 0.92220403 0.39201649 0.68053744]]]\n"
     ]
    }
   ],
   "source": [
    "print(a[0:2])"
   ]
  },
  {
   "cell_type": "markdown",
   "metadata": {},
   "source": [
    "#### 5. Create a 5x2x3 3-dimensional array with all values equaling 1. Assign the array to variable *b*."
   ]
  },
  {
   "cell_type": "code",
   "execution_count": 10,
   "metadata": {},
   "outputs": [
    {
     "data": {
      "text/plain": [
       "array([[[1, 1, 1],\n",
       "        [1, 1, 1]],\n",
       "\n",
       "       [[1, 1, 1],\n",
       "        [1, 1, 1]],\n",
       "\n",
       "       [[1, 1, 1],\n",
       "        [1, 1, 1]],\n",
       "\n",
       "       [[1, 1, 1],\n",
       "        [1, 1, 1]],\n",
       "\n",
       "       [[1, 1, 1],\n",
       "        [1, 1, 1]]])"
      ]
     },
     "execution_count": 10,
     "metadata": {},
     "output_type": "execute_result"
    }
   ],
   "source": [
    "b = np.full((5,2,3),1)\n",
    "b"
   ]
  },
  {
   "cell_type": "markdown",
   "metadata": {},
   "source": [
    "#### 6. Print *b*.\n"
   ]
  },
  {
   "cell_type": "code",
   "execution_count": 11,
   "metadata": {},
   "outputs": [
    {
     "name": "stdout",
     "output_type": "stream",
     "text": [
      "[[[1 1 1]\n",
      "  [1 1 1]]\n",
      "\n",
      " [[1 1 1]\n",
      "  [1 1 1]]\n",
      "\n",
      " [[1 1 1]\n",
      "  [1 1 1]]\n",
      "\n",
      " [[1 1 1]\n",
      "  [1 1 1]]\n",
      "\n",
      " [[1 1 1]\n",
      "  [1 1 1]]]\n"
     ]
    }
   ],
   "source": [
    "print (b)"
   ]
  },
  {
   "cell_type": "markdown",
   "metadata": {},
   "source": [
    "#### 7. Do *a* and *b* have the same size? How do you prove that in Python code?"
   ]
  },
  {
   "cell_type": "code",
   "execution_count": 12,
   "metadata": {},
   "outputs": [
    {
     "data": {
      "text/plain": [
       "True"
      ]
     },
     "execution_count": 12,
     "metadata": {},
     "output_type": "execute_result"
    }
   ],
   "source": [
    "a.size == b.size"
   ]
  },
  {
   "cell_type": "markdown",
   "metadata": {},
   "source": [
    "#### 8. Are you able to add *a* and *b*? Why or why not?\n"
   ]
  },
  {
   "cell_type": "code",
   "execution_count": 13,
   "metadata": {},
   "outputs": [
    {
     "ename": "ValueError",
     "evalue": "operands could not be broadcast together with shapes (2,3,5) (5,2,3) ",
     "output_type": "error",
     "traceback": [
      "\u001b[1;31m---------------------------------------------------------------------------\u001b[0m",
      "\u001b[1;31mValueError\u001b[0m                                Traceback (most recent call last)",
      "\u001b[1;32m<ipython-input-13-df7a338dedde>\u001b[0m in \u001b[0;36m<module>\u001b[1;34m\u001b[0m\n\u001b[1;32m----> 1\u001b[1;33m \u001b[0madd\u001b[0m \u001b[1;33m=\u001b[0m \u001b[0ma\u001b[0m\u001b[1;33m+\u001b[0m\u001b[0mb\u001b[0m\u001b[1;33m\u001b[0m\u001b[1;33m\u001b[0m\u001b[0m\n\u001b[0m\u001b[0;32m      2\u001b[0m \u001b[0madd\u001b[0m\u001b[1;33m\u001b[0m\u001b[1;33m\u001b[0m\u001b[0m\n",
      "\u001b[1;31mValueError\u001b[0m: operands could not be broadcast together with shapes (2,3,5) (5,2,3) "
     ]
    }
   ],
   "source": [
    "add = a+b\n",
    "add"
   ]
  },
  {
   "cell_type": "markdown",
   "metadata": {},
   "source": [
    "#### 9. Transpose *b* so that it has the same structure of *a* (i.e. become a 2x3x5 array). Assign the transposed array to variable *c*."
   ]
  },
  {
   "cell_type": "code",
   "execution_count": 14,
   "metadata": {},
   "outputs": [
    {
     "data": {
      "text/plain": [
       "array([[[1, 1, 1, 1, 1],\n",
       "        [1, 1, 1, 1, 1],\n",
       "        [1, 1, 1, 1, 1]],\n",
       "\n",
       "       [[1, 1, 1, 1, 1],\n",
       "        [1, 1, 1, 1, 1],\n",
       "        [1, 1, 1, 1, 1]]])"
      ]
     },
     "execution_count": 14,
     "metadata": {},
     "output_type": "execute_result"
    }
   ],
   "source": [
    "c =b.reshape(2,3,5)\n",
    "c"
   ]
  },
  {
   "cell_type": "markdown",
   "metadata": {},
   "source": [
    "#### 10. Try to add *a* and *c*. Now it should work. Assign the sum to variable *d*. But why does it work now?"
   ]
  },
  {
   "cell_type": "code",
   "execution_count": 15,
   "metadata": {},
   "outputs": [
    {
     "data": {
      "text/plain": [
       "array([[[1.22131861, 1.67913047, 1.05880839, 1.97714413, 1.09695589],\n",
       "        [1.22581897, 1.38891428, 1.88410562, 1.60013096, 1.68890101],\n",
       "        [1.60232168, 1.21263816, 1.56224734, 1.88003292, 1.77056202]],\n",
       "\n",
       "       [[1.32965298, 1.64280804, 1.75489   , 1.89724396, 1.94192406],\n",
       "        [1.36146615, 1.19107918, 1.07322479, 1.85995981, 1.68964339],\n",
       "        [1.99136376, 1.58640527, 1.92220403, 1.39201649, 1.68053744]]])"
      ]
     },
     "execution_count": 15,
     "metadata": {},
     "output_type": "execute_result"
    }
   ],
   "source": [
    "d = a+c\n",
    "d\n",
    "# it works because it is the same matrix  "
   ]
  },
  {
   "cell_type": "markdown",
   "metadata": {},
   "source": [
    "#### 11. Print *a* and *d*. Notice the difference and relation of the two array in terms of the values? Explain."
   ]
  },
  {
   "cell_type": "code",
   "execution_count": 16,
   "metadata": {},
   "outputs": [
    {
     "name": "stdout",
     "output_type": "stream",
     "text": [
      "[[[0.22131861 0.67913047 0.05880839 0.97714413 0.09695589]\n",
      "  [0.22581897 0.38891428 0.88410562 0.60013096 0.68890101]\n",
      "  [0.60232168 0.21263816 0.56224734 0.88003292 0.77056202]]\n",
      "\n",
      " [[0.32965298 0.64280804 0.75489    0.89724396 0.94192406]\n",
      "  [0.36146615 0.19107918 0.07322479 0.85995981 0.68964339]\n",
      "  [0.99136376 0.58640527 0.92220403 0.39201649 0.68053744]]]\n",
      "[[[1.22131861 1.67913047 1.05880839 1.97714413 1.09695589]\n",
      "  [1.22581897 1.38891428 1.88410562 1.60013096 1.68890101]\n",
      "  [1.60232168 1.21263816 1.56224734 1.88003292 1.77056202]]\n",
      "\n",
      " [[1.32965298 1.64280804 1.75489    1.89724396 1.94192406]\n",
      "  [1.36146615 1.19107918 1.07322479 1.85995981 1.68964339]\n",
      "  [1.99136376 1.58640527 1.92220403 1.39201649 1.68053744]]]\n"
     ]
    }
   ],
   "source": [
    "print (a)\n",
    "print(d)\n",
    "# the two arrays only have a gap of 1 since array c (and b) values is equal to 1 "
   ]
  },
  {
   "cell_type": "markdown",
   "metadata": {},
   "source": [
    "#### 12. Multiply *a* and *c*. Assign the result to *e*."
   ]
  },
  {
   "cell_type": "code",
   "execution_count": 17,
   "metadata": {},
   "outputs": [
    {
     "data": {
      "text/plain": [
       "array([[[0.22131861, 0.67913047, 0.05880839, 0.97714413, 0.09695589],\n",
       "        [0.22581897, 0.38891428, 0.88410562, 0.60013096, 0.68890101],\n",
       "        [0.60232168, 0.21263816, 0.56224734, 0.88003292, 0.77056202]],\n",
       "\n",
       "       [[0.32965298, 0.64280804, 0.75489   , 0.89724396, 0.94192406],\n",
       "        [0.36146615, 0.19107918, 0.07322479, 0.85995981, 0.68964339],\n",
       "        [0.99136376, 0.58640527, 0.92220403, 0.39201649, 0.68053744]]])"
      ]
     },
     "execution_count": 17,
     "metadata": {},
     "output_type": "execute_result"
    }
   ],
   "source": [
    "e= np.multiply(a,c)\n",
    "e"
   ]
  },
  {
   "cell_type": "markdown",
   "metadata": {},
   "source": [
    "#### 13. Does *e* equal to *a*? Why or why not?\n"
   ]
  },
  {
   "cell_type": "code",
   "execution_count": 18,
   "metadata": {},
   "outputs": [
    {
     "data": {
      "text/plain": [
       "array([[[ True,  True,  True,  True,  True],\n",
       "        [ True,  True,  True,  True,  True],\n",
       "        [ True,  True,  True,  True,  True]],\n",
       "\n",
       "       [[ True,  True,  True,  True,  True],\n",
       "        [ True,  True,  True,  True,  True],\n",
       "        [ True,  True,  True,  True,  True]]])"
      ]
     },
     "execution_count": 18,
     "metadata": {},
     "output_type": "execute_result"
    }
   ],
   "source": [
    "e == a"
   ]
  },
  {
   "cell_type": "markdown",
   "metadata": {},
   "source": [
    "#### 14. Identify the max, min, and mean values in *d*. Assign those values to variables *d_max*, *d_min* and *d_mean*."
   ]
  },
  {
   "cell_type": "code",
   "execution_count": 19,
   "metadata": {},
   "outputs": [
    {
     "name": "stdout",
     "output_type": "stream",
     "text": [
      "max:  1.9913637584890913\n",
      "min:  1.0588083949469695\n",
      "mean:  1.5721149936335184\n"
     ]
    }
   ],
   "source": [
    "d_max = np.amax(d)\n",
    "print(\"max: \", d_max)\n",
    "d_min = np.amin(d)\n",
    "print(\"min: \", d_min)\n",
    "d_mean = np.mean(d)\n",
    "print(\"mean: \", d_mean)"
   ]
  },
  {
   "cell_type": "markdown",
   "metadata": {},
   "source": [
    "# 15. Now we want to label the values in *d*. First create an empty array *f* with the same shape (i.e. 2x3x5) as *d* using `np.empty`.\n"
   ]
  },
  {
   "cell_type": "code",
   "execution_count": 24,
   "metadata": {},
   "outputs": [
    {
     "name": "stdout",
     "output_type": "stream",
     "text": [
      "[[[0.22131861 0.67913047 0.05880839 0.97714413 0.09695589]\n",
      "  [0.22581897 0.38891428 0.88410562 0.60013096 0.68890101]\n",
      "  [0.60232168 0.21263816 0.56224734 0.88003292 0.77056202]]\n",
      "\n",
      " [[0.32965298 0.64280804 0.75489    0.89724396 0.94192406]\n",
      "  [0.36146615 0.19107918 0.07322479 0.85995981 0.68964339]\n",
      "  [0.99136376 0.58640527 0.92220403 0.39201649 0.68053744]]]\n"
     ]
    }
   ],
   "source": [
    "f = np.empty([2,3,5])\n",
    "print(f)"
   ]
  },
  {
   "cell_type": "markdown",
   "metadata": {},
   "source": [
    "#### 16. Populate the values in *f*. \n",
    "\n",
    "For each value in *d*, if it's larger than *d_min* but smaller than *d_mean*, assign 25 to the corresponding value in *f*. If a value in *d* is larger than *d_mean* but smaller than *d_max*, assign 75 to the corresponding value in *f*. If a value equals to *d_mean*, assign 50 to the corresponding value in *f*. Assign 0 to the corresponding value(s) in *f* for *d_min* in *d*. Assign 100 to the corresponding value(s) in *f* for *d_max* in *d*. In the end, f should have only the following values: 0, 25, 50, 75, and 100.\n",
    "\n",
    "**Note**: you don't have to use Numpy in this question."
   ]
  },
  {
   "cell_type": "code",
   "execution_count": 25,
   "metadata": {},
   "outputs": [
    {
     "name": "stdout",
     "output_type": "stream",
     "text": [
      "[[[ 25  75   0  75  25]\n",
      "  [ 25  25  75  75  75]\n",
      "  [ 75  25  25  75  75]]\n",
      "\n",
      " [[ 25  75  75  75  75]\n",
      "  [ 25  25  25  75  75]\n",
      "  [100  75  75  25  75]]]\n"
     ]
    }
   ],
   "source": [
    "f = []\n",
    "\n",
    "for x in np.nditer(d):\n",
    "    if d_min < x < d_mean:\n",
    "        f += [25]\n",
    "    if d_mean < x < d_max:\n",
    "        f += [75]\n",
    "    if x == d_mean:\n",
    "        f += [50]\n",
    "    if x == d_min:\n",
    "        f += [0]\n",
    "    if x == d_max:\n",
    "        f += [100]\n",
    "    \n",
    "        \n",
    "f = np.reshape(f, d.shape) \n",
    "print(f) \n"
   ]
  },
  {
   "cell_type": "code",
   "execution_count": 28,
   "metadata": {},
   "outputs": [
    {
     "name": "stdout",
     "output_type": "stream",
     "text": [
      "[[[ 25  75   0  75  25]\n",
      "  [ 25  25  75  75  75]\n",
      "  [ 75  25  25  75  75]]\n",
      "\n",
      " [[ 25  75  75  75  75]\n",
      "  [ 25  25  25  75  75]\n",
      "  [100  75  75  25  75]]]\n"
     ]
    }
   ],
   "source": [
    "for l1 in range(0,2):\n",
    "    for l2 in range(0,3):\n",
    "        for el in range(0,5):\n",
    "            if d_min<el<d_mean:\n",
    "                f=25\n",
    "            elif d_mean<el<d_max:\n",
    "                f=75\n",
    "            elif el==d_mean:\n",
    "                f=50\n",
    "            elif el==d_min:\n",
    "                f=0\n",
    "            elif el==d_max:\n",
    "                f=100\n",
    "print(f)"
   ]
  },
  {
   "cell_type": "markdown",
   "metadata": {},
   "source": [
    "#### 17. Print *d* and *f*. Do you have your expected *f*?\n",
    "For instance, if your *d* is:\n",
    "```python\n",
    "[[[1.85836099, 1.67064465, 1.62576044, 1.40243961, 1.88454931],\n",
    "[1.75354326, 1.69403643, 1.36729252, 1.61415071, 1.12104981],\n",
    "[1.72201435, 1.1862918 , 1.87078449, 1.7726778 , 1.88180042]],\n",
    "[[1.44747908, 1.31673383, 1.02000951, 1.52218947, 1.97066381],\n",
    "[1.79129243, 1.74983003, 1.96028037, 1.85166831, 1.65450881],\n",
    "[1.18068344, 1.9587381 , 1.00656599, 1.93402165, 1.73514584]]]\n",
    "```\n",
    "Your *f* should be:\n",
    "```python\n",
    "[[[ 75.,  75.,  75.,  25.,  75.],\n",
    "[ 75.,  75.,  25.,  25.,  25.],\n",
    "[ 75.,  25.,  75.,  75.,  75.]],\n",
    "[[ 25.,  25.,  25.,  25., 100.],\n",
    "[ 75.,  75.,  75.,  75.,  75.],\n",
    "[ 25.,  75.,   0.,  75.,  75.]]]\n",
    "```"
   ]
  },
  {
   "cell_type": "code",
   "execution_count": null,
   "metadata": {},
   "outputs": [],
   "source": [
    "# your code here"
   ]
  },
  {
   "cell_type": "markdown",
   "metadata": {},
   "source": [
    "#### 18. Bonus question: instead of using numbers (i.e. 0, 25, 50, 75, and 100), use string values  (\"A\", \"B\", \"C\", \"D\", and \"E\") to label the array elements. For the example above, the expected result is:\n",
    "\n",
    "```python\n",
    "[[[ 'D',  'D',  'D',  'B',  'D'],\n",
    "[ 'D',  'D',  'B',  'B',  'B'],\n",
    "[ 'D',  'B',  'D',  'D',  'D']],\n",
    "[[ 'B',  'B',  'B',  'B',  'E'],\n",
    "[ 'D',  'D',  'D',  'D',  'D'],\n",
    "[ 'B',  'D',   'A',  'D', 'D']]]\n",
    "```\n",
    "**Note**: you don't have to use Numpy in this question."
   ]
  },
  {
   "cell_type": "code",
   "execution_count": 32,
   "metadata": {},
   "outputs": [
    {
     "name": "stdout",
     "output_type": "stream",
     "text": [
      "[[['B' 'D' 'A' 'D' 'B']\n",
      "  ['B' 'B' 'D' 'D' 'D']\n",
      "  ['D' 'B' 'B' 'D' 'D']]\n",
      "\n",
      " [['B' 'D' 'D' 'D' 'D']\n",
      "  ['B' 'B' 'B' 'D' 'D']\n",
      "  ['E' 'D' 'D' 'B' 'D']]]\n"
     ]
    }
   ],
   "source": [
    "f = []\n",
    "\n",
    "for x in np.nditer(d):\n",
    "    if d_min < x < d_mean:\n",
    "        f += [\"B\"]\n",
    "    if d_mean < x < d_max:\n",
    "        f += [\"D\"]\n",
    "    if x == d_mean:\n",
    "        f += [\"C\"]\n",
    "    if x == d_min:\n",
    "        f += [\"A\"]\n",
    "    if x == d_max:\n",
    "        f += [\"E\"]\n",
    "    \n",
    "        \n",
    "f = np.reshape(f, d.shape) \n",
    "print(f) \n"
   ]
  },
  {
   "cell_type": "code",
   "execution_count": null,
   "metadata": {},
   "outputs": [],
   "source": []
  }
 ],
 "metadata": {
  "kernelspec": {
   "display_name": "Python 3",
   "language": "python",
   "name": "python3"
  },
  "language_info": {
   "codemirror_mode": {
    "name": "ipython",
    "version": 3
   },
   "file_extension": ".py",
   "mimetype": "text/x-python",
   "name": "python",
   "nbconvert_exporter": "python",
   "pygments_lexer": "ipython3",
   "version": "3.8.8"
  }
 },
 "nbformat": 4,
 "nbformat_minor": 2
}
