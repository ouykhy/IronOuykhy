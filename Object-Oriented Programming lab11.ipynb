{
 "cells": [
  {
   "cell_type": "code",
   "execution_count": 1,
   "id": "b20fda81",
   "metadata": {},
   "outputs": [
    {
     "data": {
      "text/plain": [
       "[2, 2, 4]"
      ]
     },
     "execution_count": 1,
     "metadata": {},
     "output_type": "execute_result"
    }
   ],
   "source": [
    "def remove_(integer_list, values_list):\n",
    "    result = []\n",
    "    for i in integer_list:\n",
    "        inlist = False\n",
    "        for v in values_list:\n",
    "            if i == v:\n",
    "                inlist = True\n",
    "        if inlist == False:\n",
    "            result.append(i)    \n",
    "    return result\n",
    "\n",
    "\n",
    "integer_list =  [1, 1, 2 ,3 ,1 ,2 ,3 ,4]\n",
    "values_list = [1, 3]\n",
    "remove_(integer_list, values_list)"
   ]
  },
  {
   "cell_type": "code",
   "execution_count": 5,
   "id": "68ee3bba",
   "metadata": {},
   "outputs": [
    {
     "data": {
      "text/plain": [
       "[(1, 7), (3, 1)]"
      ]
     },
     "execution_count": 5,
     "metadata": {},
     "output_type": "execute_result"
    }
   ],
   "source": [
    "def count_spec_digits(integers_list, digits_list):\n",
    "    concat = \"\"\n",
    "    couple = ()\n",
    "    result = []\n",
    "    for d in integers_list:\n",
    "        concat = concat + str(d)\n",
    "    for digit in digits_list:\n",
    "        couple = (digit,(concat.count(str(digit))))\n",
    "        result.append(couple)\n",
    "    return result\n",
    "\n",
    "integers_list = [-18, -31, 81, -19, 111, -888]\n",
    "digits_list = [1, 3]\n",
    "count_spec_digits(integers_list, digits_list)"
   ]
  },
  {
   "cell_type": "code",
   "execution_count": 15,
   "id": "68391e1a",
   "metadata": {},
   "outputs": [
    {
     "name": "stdout",
     "output_type": "stream",
     "text": [
      "[('a', 5), ('b', 2), ('c', 1), ('d', 1), ('r', 2)]\n"
     ]
    },
    {
     "data": {
      "text/plain": [
       "False"
      ]
     },
     "execution_count": 15,
     "metadata": {},
     "output_type": "execute_result"
    }
   ],
   "source": [
    "def ordered_count(word):\n",
    "    couple = ()\n",
    "    result = []\n",
    "    list_char = set(word.strip())\n",
    "    for l in list_char:\n",
    "        couple = (l, word.count(l))\n",
    "        result.append(couple)\n",
    "    print(sorted(result)) \n",
    "\n",
    "ordered_count(\"abracadabra\") == [('a', 5), ('b', 2), ('r', 2), ('c', 1), ('d', 1)]"
   ]
  }
 ],
 "metadata": {
  "kernelspec": {
   "display_name": "Python 3",
   "language": "python",
   "name": "python3"
  },
  "language_info": {
   "codemirror_mode": {
    "name": "ipython",
    "version": 3
   },
   "file_extension": ".py",
   "mimetype": "text/x-python",
   "name": "python",
   "nbconvert_exporter": "python",
   "pygments_lexer": "ipython3",
   "version": "3.8.8"
  }
 },
 "nbformat": 4,
 "nbformat_minor": 5
}
